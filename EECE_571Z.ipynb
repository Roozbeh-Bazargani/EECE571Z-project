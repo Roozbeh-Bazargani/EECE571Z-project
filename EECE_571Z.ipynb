{
 "cells": [
  {
   "cell_type": "markdown",
   "metadata": {
    "id": "pr8c5LapuANk"
   },
   "source": [
    "# Import"
   ]
  },
  {
   "cell_type": "code",
   "execution_count": 1,
   "metadata": {
    "id": "ddml4C1g9h9v"
   },
   "outputs": [],
   "source": [
    "import numpy as np\n",
    "import matplotlib.pyplot as plt"
   ]
  },
  {
   "cell_type": "markdown",
   "metadata": {
    "id": "kSGasIdx7M1V"
   },
   "source": [
    "# Generating linearly separable data"
   ]
  },
  {
   "cell_type": "code",
   "execution_count": 2,
   "metadata": {
    "id": "4fwd5FituGmL"
   },
   "outputs": [],
   "source": [
    "n = 8000\n",
    "d = 100\n",
    "tau = 0.1\n",
    "\n",
    "# a.T x = 0\n",
    "a = np.random.rand(d-1,1)\n",
    "a = a / np.sum(a)\n",
    "# a = np.zeros((d-1,1))\n",
    "\n",
    "X = np.random.rand(n,d - 1) - 0.5\n",
    "X0 = -np.dot(X[:int(n/2)], a) + np.random.rand(int(n/2),1) - tau\n",
    "X1 = -np.dot(X[int(n/2):], a) + np.random.rand(int(n/2),1) + (tau + 1)\n",
    "# X0 = -np.sum(X[:int(n/2)], axis=1, keepdims=True) + np.random.rand(int(n/2),1) - tau\n",
    "# X1 = -np.sum(X[int(n/2):], axis=1, keepdims=True) + np.random.rand(int(n/2),1) + (tau + 1)\n",
    "# X0 = np.random.rand(int(n/2),1) + tau\n",
    "# X1 = np.random.rand(int(n/2),1) - (tau + 1)\n",
    "Xd = np.concatenate((X0, X1), axis=0) \n",
    "X = np.concatenate((X, Xd), axis=1)\n",
    "Y = np.concatenate((-np.ones((int(n/2),1)), np.ones((int(n/2),1))), axis=0)"
   ]
  },
  {
   "cell_type": "code",
   "execution_count": 3,
   "metadata": {
    "colab": {
     "base_uri": "https://localhost:8080/"
    },
    "id": "d7JT75udC_w2",
    "outputId": "7789d3d1-02f2-4373-aa3d-3fde2449b4e9"
   },
   "outputs": [
    {
     "name": "stdout",
     "output_type": "stream",
     "text": [
      "(8000, 100)\n",
      "(8000, 1)\n"
     ]
    }
   ],
   "source": [
    "print(X.shape)\n",
    "print(Y.shape)"
   ]
  },
  {
   "cell_type": "code",
   "execution_count": 4,
   "metadata": {
    "colab": {
     "base_uri": "https://localhost:8080/",
     "height": 265
    },
    "id": "hjzUoKE6vYC-",
    "outputId": "6c51f378-3d58-4fe1-daf5-b30aeb785e8f"
   },
   "outputs": [
    {
     "data": {
      "image/png": "[encoded data removed]",
      "text/plain": [
       "<Figure size 432x288 with 1 Axes>"
      ]
     },
     "metadata": {
      "needs_background": "light"
     },
     "output_type": "display_data"
    }
   ],
   "source": [
    "plt.plot(-np.dot(X[:int(n/2),:-1], a), X[:int(n/2), -1], 'r.')\n",
    "plt.plot(-np.dot(X[int(n/2):,:-1], a), X[int(n/2):, -1], 'b.')\n",
    "# plt.plot([0,1], [-tau, -tau], '--')\n",
    "# plt.plot([0,1], [tau, tau], '--')\n",
    "plt.show()"
   ]
  },
  {
   "cell_type": "code",
   "execution_count": 5,
   "metadata": {
    "colab": {
     "base_uri": "https://localhost:8080/"
    },
    "id": "34wgGBHMFzxJ",
    "outputId": "6d90e94b-070a-45ae-d110-9ddb039c02f3"
   },
   "outputs": [
    {
     "name": "stdout",
     "output_type": "stream",
     "text": [
      "(100, 100)\n",
      "11620.470349796627\n"
     ]
    }
   ],
   "source": [
    "# Compute L\n",
    "print(np.matmul(X.T,X).shape)\n",
    "eigens = np.linalg.eigh(np.matmul(X.T,X))[0]\n",
    "# print(np.linalg.eigh(np.matmul(X.T,X))[0][-1])\n",
    "L = eigens[-1] # The eigenvalues in ascending order\n",
    "print(L)"
   ]
  },
  {
   "cell_type": "code",
   "execution_count": 6,
   "metadata": {},
   "outputs": [],
   "source": [
    "epochs = 50"
   ]
  },
  {
   "cell_type": "markdown",
   "metadata": {
    "id": "R88IlxMbv25r"
   },
   "source": [
    "# SGD"
   ]
  },
  {
   "cell_type": "code",
   "execution_count": 7,
   "metadata": {
    "colab": {
     "base_uri": "https://localhost:8080/",
     "height": 520
    },
    "id": "ToDuQ6id7Z8k",
    "outputId": "8f071196-7b48-4203-bbc4-69d6efb1d96f",
    "scrolled": true
   },
   "outputs": [],
   "source": [
    "def SGD(X, Y, epochs, lr):\n",
    "    n, d = X.shape\n",
    "    w = np.zeros((d,1))\n",
    "    b = 0\n",
    "    losses = []\n",
    "    accs = []\n",
    "    # epoch 0\n",
    "    z = np.dot(X, w) + b\n",
    "    pred = z > 0\n",
    "    pred = pred * 2 - 1\n",
    "    acc = np.mean(pred == Y)\n",
    "    accs.append(acc)\n",
    "    loss = np.mean(np.maximum(0, 1 - Y* z))\n",
    "    losses.append(loss)\n",
    "    \n",
    "    cnt = 0 \n",
    "    for epoch in range(epochs):\n",
    "        for i in range(n):\n",
    "            idx = np.random.randint(n)\n",
    "            x = X[idx]\n",
    "            x = np.expand_dims(x, axis=-1)\n",
    "            y = Y[idx]\n",
    "            J_w = 0\n",
    "            J_b = 0\n",
    "            if y*(np.dot(w.T,x) + b) < 1:    \n",
    "                J_w = -y*x\n",
    "                J_b = -y\n",
    "                cnt += 1\n",
    "            w = w - lr*J_w\n",
    "            b = b - lr*J_b\n",
    "            \n",
    "        z = np.dot(X, w) + b\n",
    "        pred = z > 0\n",
    "        pred = pred * 2 - 1\n",
    "        acc = np.mean(pred == Y)\n",
    "        accs.append(acc)\n",
    "        loss = np.mean(np.maximum(0, 1 - Y* z))\n",
    "        losses.append(loss)\n",
    "        \n",
    "    return losses, accs"
   ]
  },
  {
   "cell_type": "code",
   "execution_count": 8,
   "metadata": {
    "colab": {
     "base_uri": "https://localhost:8080/",
     "height": 282
    },
    "id": "MThR39AnD9DS",
    "outputId": "1c3f4c03-23d3-4c3f-93be-0bac6b758ab0"
   },
   "outputs": [
    {
     "name": "stdout",
     "output_type": "stream",
     "text": [
      "[1.0, 0.7498490109202515, 0.6389622394654251, 0.5823445303803684, 0.5256388191182024, 0.46803463754516794, 0.4127971917743504, 0.35716753662965156, 0.316251509971264, 0.2867368718291125, 0.26511079140109606, 0.24751437768513693, 0.23289648762604895, 0.22055299033023634, 0.20989050841212975, 0.2006297940535918, 0.19230689050773828, 0.18512632518476582, 0.17865023439270186, 0.17269113710748626, 0.16750345096062882, 0.16239971532167238, 0.15781765772471013, 0.15363327656527623, 0.14970006974870334, 0.14590426563114772, 0.14234267438220075, 0.13906598088187197, 0.13593355971254037, 0.13298127489208877, 0.13019781100648822, 0.127535654843728, 0.1250834649054115, 0.12267324866224541, 0.12042597522306124, 0.11828375464212194, 0.11620128752578603, 0.11418863797355933, 0.11227468161746054, 0.11046642677404288, 0.10868976693634035, 0.10694690225442577, 0.10531667168684705, 0.10379276461213148, 0.10221636581068333, 0.10066803058691098, 0.09919733239512604, 0.09778767002933057, 0.09646162709479432, 0.09515719225386957, 0.09384194899259247]\n",
      "[0.5, 0.5515, 0.619375, 0.713, 0.792, 0.852875, 0.897, 0.938625, 0.965375, 0.978875, 0.983, 0.989375, 0.992875, 0.995, 0.99625, 0.99675, 0.997125, 0.997875, 0.998625, 0.998875, 0.999375, 0.999625, 0.999625, 0.999625, 0.999625, 0.999625, 0.999875, 0.99975, 0.999875, 0.999875, 0.999875, 0.999875, 0.999875, 0.999875, 0.999875, 0.999875, 0.999875, 0.999875, 0.999875, 0.999875, 0.999875, 1.0, 1.0, 1.0, 1.0, 1.0, 1.0, 1.0, 1.0, 1.0, 1.0]\n"
     ]
    }
   ],
   "source": [
    "sgd_losses, sgd_accs = SGD(X, Y, epochs, 1/L)\n",
    "print(sgd_losses)\n",
    "print(sgd_accs)"
   ]
  },
  {
   "cell_type": "code",
   "execution_count": 9,
   "metadata": {},
   "outputs": [
    {
     "data": {
      "text/plain": [
       "<matplotlib.legend.Legend at 0x7f30c1461588>"
      ]
     },
     "execution_count": 9,
     "metadata": {},
     "output_type": "execute_result"
    },
    {
     "data": {
      "image/png": "[encoded data removed]",
      "text/plain": [
       "<Figure size 432x288 with 1 Axes>"
      ]
     },
     "metadata": {
      "needs_background": "light"
     },
     "output_type": "display_data"
    }
   ],
   "source": [
    "plt.plot(range(epochs + 1), sgd_losses)\n",
    "plt.yscale('log')\n",
    "plt.legend(['SGD loss'])"
   ]
  },
  {
   "cell_type": "markdown",
   "metadata": {},
   "source": [
    "# Acc-SGD"
   ]
  },
  {
   "cell_type": "code",
   "execution_count": 10,
   "metadata": {
    "id": "_WpBHlQsFCgX",
    "scrolled": true
   },
   "outputs": [],
   "source": [
    "def Acc_SGD(X, Y, epochs, rho, tau):\n",
    "    eta = 1 / (L * rho)\n",
    "    n, d = X.shape\n",
    "    X = np.concatenate((X, np.ones((n,1))), axis=1)\n",
    "    w = np.zeros((d+1,1))\n",
    "    b = 0\n",
    "    losses = []\n",
    "    accs = []\n",
    "    # update param\n",
    "    v = np.zeros((d+1,1))\n",
    "    zeta = np.zeros((d+1,1))\n",
    "    gama = 0\n",
    "    ak = 0.001\n",
    "    beta = 1 # set mu = 0 (0-strong convex function is a convex function)\n",
    "    \n",
    "    # epoch 0\n",
    "    z = np.dot(X, w) + b\n",
    "    pred = z > 0\n",
    "    pred = pred * 2 - 1\n",
    "    acc = np.mean(pred == Y)\n",
    "    accs.append(acc)\n",
    "    loss = np.mean(np.maximum(0, 1 - Y* z))\n",
    "    losses.append(loss)\n",
    "    \n",
    "    for epoch in range(epochs):\n",
    "        for i in range(n):\n",
    "            idx = np.random.randint(n)\n",
    "            x = X[idx]\n",
    "            x = np.expand_dims(x, axis=-1)\n",
    "            y = Y[idx]\n",
    "            # update\n",
    "            gama = (1 / rho + np.sqrt(1 / rho**2 + 4*gama**2)) / 2\n",
    "            alpha = gama * eta / (gama * eta + ak**2)\n",
    "            ak = gama * np.sqrt(eta*rho)\n",
    "            \n",
    "            zeta = alpha * v + (1 - alpha) * w\n",
    "            J_zeta = 0\n",
    "            if y*(np.dot(zeta.T,x) + b) < 1:    \n",
    "                J_zeta = -y*x\n",
    "            v = beta * v + (1 - beta) * zeta - gama * eta * J_zeta\n",
    "            w = zeta - eta * J_zeta\n",
    "            \n",
    "        z = np.dot(X, w) + b\n",
    "        pred = z > 0\n",
    "        pred = pred * 2 - 1\n",
    "        acc = np.mean(pred == Y)\n",
    "        accs.append(acc)\n",
    "        loss = np.mean(np.maximum(0, 1 - Y* z))\n",
    "        losses.append(loss)\n",
    "        \n",
    "    return losses, accs"
   ]
  },
  {
   "cell_type": "code",
   "execution_count": 11,
   "metadata": {},
   "outputs": [
    {
     "name": "stdout",
     "output_type": "stream",
     "text": [
      "[1.0, 0.03565821799108268, 0.005249059413738002, 0.017374096511351106, 0.020316045188990908, 0.010576243342434396, 0.019752239441985567, 0.0202846463705664, 0.00905304272865408, 0.006577839125905225, 0.009268809772784072, 0.012409934864034746, 0.0033973706923789548, 0.003795271649396316, 0.020476420824327584, 0.013356933262766955, 0.018724210406453716, 0.022647592682825967, 0.017997125261266633, 0.0049006808220859064, 0.009288493740483213, 0.015820230178743174, 0.011386085312817642, 0.011705960101465447, 0.005217933100750529, 0.005656230212786727, 0.004285452059854581, 0.003385903531556412, 0.003235029665423916, 0.0042697836955965865, 0.0024335447184074006, 0.006476562216802236, 0.008906232029701236, 0.008012328469287457, 0.004693531931572895, 0.006357713651878161, 0.004120633010994105, 0.0025541262960818863, 0.0011496028566318941, 0.0027261048982084903, 0.004220573069036434, 0.0032570844853885743, 0.005043546031889378, 0.005132745707318666, 0.0030343459225803285, 0.002648711286946245, 0.001468341944988616, 0.0007585188115941363, 0.0026852109786310694, 0.0027865262709001826, 0.0013007897394465716]\n",
      "[0.5, 0.9885, 0.999125, 0.993, 0.991875, 0.99575, 0.993125, 0.99275, 0.9965, 0.997875, 0.997125, 0.9965, 0.998625, 0.998625, 0.995375, 0.996625, 0.995625, 0.995375, 0.996625, 0.9985, 0.997875, 0.996625, 0.998375, 0.99775, 0.99875, 0.9985, 0.998875, 0.99925, 0.99925, 0.998875, 0.999625, 0.99875, 0.998625, 0.998375, 0.99925, 0.999125, 0.999, 0.99925, 0.9995, 0.999, 0.998875, 0.999375, 0.999125, 0.99875, 0.9995, 0.99925, 0.999625, 0.999875, 0.999375, 0.9995, 0.99975]\n"
     ]
    }
   ],
   "source": [
    "acc_losses_10, acc_accs_10 = Acc_SGD(X, Y, epochs, 1 / (tau * 10), tau)\n",
    "print(acc_losses_10)\n",
    "print(acc_accs_10)"
   ]
  },
  {
   "cell_type": "code",
   "execution_count": 12,
   "metadata": {},
   "outputs": [
    {
     "name": "stdout",
     "output_type": "stream",
     "text": [
      "[1.0, 0.2511065739508125, 0.0771783113816634, 0.04249148527083625, 0.026710006493111324, 0.017813751169211516, 0.012597621238830478, 0.009310492203031207, 0.006609949887566001, 0.004796188875637647, 0.003347490743974925, 0.0023598584768696465, 0.0016272770225958966, 0.0011035209124443351, 0.0011813564210580464, 0.0008859003283127067, 0.0007390383612600098, 0.000806007655144263, 0.0006377119449990569, 0.0004250656736564218, 0.00038125299099322964, 0.00023609116960492148, 0.0001590448220349525, 0.00024275033788633205, 0.00018538010397213523, 0.00020445174767096065, 0.00015795110149205115, 0.00010989839765395914, 6.334940000908551e-05, 1.772220227551502e-05, 3.306582491395926e-05, 6.9793051331426e-05, 7.759376057708711e-05, 6.79955548103377e-05, 8.234764598806144e-05, 7.79278983769407e-05, 6.857354492419909e-05, 2.7775043619291394e-05, 1.0809827729726162e-05, 1.2970740681276682e-05, 5.5219077668069216e-05, 6.646617902715124e-05, 4.427913646938708e-05, 5.21594171240527e-05, 3.383062499603739e-05, 3.2318061514714056e-05, 3.59021838361393e-05, 2.386002245493879e-05, 2.1817015472618275e-05, 3.570137230884729e-05, 5.313262287321297e-05]\n",
      "[0.5, 0.997375, 0.999625, 0.999875, 0.999875, 1.0, 1.0, 1.0, 1.0, 1.0, 1.0, 1.0, 1.0, 1.0, 1.0, 1.0, 1.0, 1.0, 1.0, 1.0, 1.0, 1.0, 1.0, 1.0, 1.0, 1.0, 1.0, 1.0, 1.0, 1.0, 1.0, 1.0, 1.0, 1.0, 1.0, 1.0, 1.0, 1.0, 1.0, 1.0, 1.0, 1.0, 1.0, 1.0, 1.0, 1.0, 1.0, 1.0, 1.0, 1.0, 1.0]\n"
     ]
    }
   ],
   "source": [
    "acc_losses_1, acc_accs_1 = Acc_SGD(X, Y, epochs, 1 / tau, tau)\n",
    "print(acc_losses_1)\n",
    "print(acc_accs_1)"
   ]
  },
  {
   "cell_type": "code",
   "execution_count": 13,
   "metadata": {},
   "outputs": [
    {
     "data": {
      "text/plain": [
       "<matplotlib.legend.Legend at 0x7f30c1377ac8>"
      ]
     },
     "execution_count": 13,
     "metadata": {},
     "output_type": "execute_result"
    },
    {
     "data": {
      "image/png": "[encoded data removed]",
      "text/plain": [
       "<Figure size 432x288 with 1 Axes>"
      ]
     },
     "metadata": {
      "needs_background": "light"
     },
     "output_type": "display_data"
    }
   ],
   "source": [
    "plt.plot(range(epochs+1), sgd_losses, range(epochs+1), acc_losses_10, range(epochs+1), acc_losses_1)\n",
    "plt.yscale('log')\n",
    "plt.legend(['SGD loss', 'Acc-SGD loss rho=1/(10 tau)', 'Acc-SGD loss rho=1/tau'])"
   ]
  },
  {
   "cell_type": "code",
   "execution_count": null,
   "metadata": {},
   "outputs": [],
   "source": []
  }
 ],
 "metadata": {
  "colab": {
   "collapsed_sections": [],
   "name": "EECE 571Z.ipynb",
   "provenance": []
  },
  "kernelspec": {
   "display_name": "Python 3",
   "language": "python",
   "name": "python3"
  },
  "language_info": {
   "codemirror_mode": {
    "name": "ipython",
    "version": 3
   },
   "file_extension": ".py",
   "mimetype": "text/x-python",
   "name": "python",
   "nbconvert_exporter": "python",
   "pygments_lexer": "ipython3",
   "version": "3.6.9"
  }
 },
 "nbformat": 4,
 "nbformat_minor": 1
}
